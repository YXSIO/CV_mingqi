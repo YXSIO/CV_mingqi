{
 "cells": [
  {
   "cell_type": "code",
   "execution_count": 6,
   "metadata": {
    "ExecuteTime": {
     "end_time": "2020-11-09T16:04:44.063202Z",
     "start_time": "2020-11-09T16:04:43.390807Z"
    }
   },
   "outputs": [
    {
     "name": "stdout",
     "output_type": "stream",
     "text": [
      "[[ 0.33831645  0.05147664  0.36930843  0.01306616  0.19721669  0.03061562]\n",
      " [ 0.12990166  0.02830234  0.04680695  0.29846837  0.43243365  0.06408703]\n",
      " [ 0.43513154  0.17017453  0.14134381  0.13346777  0.09410005  0.02578231]\n",
      " [ 0.56612535  0.12441765  0.02089649  0.09421838  0.09350408  0.10083805]]\n",
      "tensor([[ 1.2112, -0.2058, -0.2820, -0.6513, -1.8489, -0.5361],\n",
      "        [ 0.7789,  0.1755,  1.1240,  0.4955, -0.8198,  0.2016],\n",
      "        [ 2.6034,  0.2001, -0.2266,  0.3400, -0.5017,  0.1569],\n",
      "        [-1.3248,  0.9990,  0.7850,  0.3226, -0.8547, -1.2602]])\n",
      "tensor([[0.5424, 0.1315, 0.1219, 0.0842, 0.0254, 0.0945],\n",
      "        [0.2234, 0.1222, 0.3155, 0.1683, 0.0452, 0.1254],\n",
      "        [0.7221, 0.0653, 0.0426, 0.0751, 0.0324, 0.0625],\n",
      "        [0.0366, 0.3739, 0.3018, 0.1901, 0.0586, 0.0390]])\n",
      "tensor([1.0000, 1.0000, 1.0000, 1.0000])\n"
     ]
    }
   ],
   "source": [
    "import numpy as np\n",
    "import torch\n",
    "import torch.nn.functional as F\n",
    "\n",
    "dtype = torch.float\n",
    "device = torch.device(\"cpu\")\n",
    "# N is batch size; D_in is input dimension;\n",
    "N, D_out = 4, 6\n",
    "\n",
    "# Version without pytorch\n",
    "output = np.random.randn(N, D_out)\n",
    "\n",
    "def my_softmax(nums):\n",
    "    rst = np.exp(nums) / np.sum(np.exp(nums), axis=1).reshape(4,1)\n",
    "    return rst\n",
    "\n",
    "print(my_softmax(output))\n",
    "\n",
    "\n",
    "# Version with pytorch\n",
    "output = torch.randn(N, D_out, device=device, dtype=dtype)\n",
    "\n",
    "print(output)\n",
    "print(F.softmax(output, dim=1))\n",
    "print(F.softmax(output, dim=1).sum(axis=1))  # Sums to 1 because it is a distribution!"
   ]
  },
  {
   "cell_type": "code",
   "execution_count": 54,
   "metadata": {},
   "outputs": [
    {
     "name": "stdout",
     "output_type": "stream",
     "text": [
      "(4,)\n",
      "(4, 1)\n",
      "(1, 4)\n"
     ]
    }
   ],
   "source": [
    "test = np.array([1,2,3,4])\n",
    "print(test.shape)\n",
    "# The following two are equivalent\n",
    "# np.expand_dims(test, axis=1)\n",
    "print(test[:,np.newaxis].shape)\n",
    "print(test[np.newaxis,:].shape)"
   ]
  },
  {
   "cell_type": "code",
   "execution_count": null,
   "metadata": {
    "collapsed": true
   },
   "outputs": [],
   "source": []
  }
 ],
 "metadata": {
  "kernelspec": {
   "display_name": "Python 2",
   "language": "python",
   "name": "python2"
  },
  "language_info": {
   "codemirror_mode": {
    "name": "ipython",
    "version": 2
   },
   "file_extension": ".py",
   "mimetype": "text/x-python",
   "name": "python",
   "nbconvert_exporter": "python",
   "pygments_lexer": "ipython2",
   "version": "2.7.14"
  },
  "toc": {
   "base_numbering": 1,
   "nav_menu": {},
   "number_sections": true,
   "sideBar": true,
   "skip_h1_title": false,
   "title_cell": "Table of Contents",
   "title_sidebar": "Contents",
   "toc_cell": false,
   "toc_position": {},
   "toc_section_display": true,
   "toc_window_display": false
  }
 },
 "nbformat": 4,
 "nbformat_minor": 4
}
