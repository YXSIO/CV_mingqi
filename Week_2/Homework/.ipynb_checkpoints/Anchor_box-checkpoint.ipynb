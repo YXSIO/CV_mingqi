{
 "cells": [
  {
   "cell_type": "code",
   "execution_count": 2,
   "metadata": {
    "ExecuteTime": {
     "end_time": "2020-11-02T02:56:59.872908Z",
     "start_time": "2020-11-02T02:56:59.120741Z"
    }
   },
   "outputs": [],
   "source": [
    "import cv2\n",
    "import numpy as np"
   ]
  },
  {
   "cell_type": "code",
   "execution_count": 3,
   "metadata": {
    "ExecuteTime": {
     "end_time": "2020-11-02T02:56:59.890849Z",
     "start_time": "2020-11-02T02:56:59.875385Z"
    }
   },
   "outputs": [],
   "source": [
    "# Read image\n",
    "image_name = 'anchor.jpg'\n",
    "image = cv2.imread(image_name)\n",
    "\n",
    "# Copy image as original\n",
    "org = image.copy()"
   ]
  },
  {
   "cell_type": "code",
   "execution_count": 4,
   "metadata": {
    "ExecuteTime": {
     "end_time": "2020-11-02T02:56:59.899169Z",
     "start_time": "2020-11-02T02:56:59.894384Z"
    }
   },
   "outputs": [
    {
     "name": "stdout",
     "output_type": "stream",
     "text": [
      "(500, 449, 3)\n",
      "The total area is 224500\n",
      "The mid pixel location is (250, 224)\n"
     ]
    }
   ],
   "source": [
    "# Pre-processing\n",
    "print(image.shape)\n",
    "x, y, _ = image.shape\n",
    "Img_size = x*y\n",
    "print(f'The total area is {Img_size}')\n",
    "\n",
    "# find the mid point of the image\n",
    "mid_x = x // 2\n",
    "mid_y = y // 2\n",
    "print(f'The mid pixel location is ({mid_x}, {mid_y})')"
   ]
  },
  {
   "cell_type": "code",
   "execution_count": 5,
   "metadata": {
    "ExecuteTime": {
     "end_time": "2020-11-02T02:56:59.908229Z",
     "start_time": "2020-11-02T02:56:59.901134Z"
    }
   },
   "outputs": [],
   "source": [
    "# Define the aspect ratio of small, middle and largeranchor boxes\n",
    "asp_ratio = [2, 2, 2]\n",
    "\n",
    "# Define the size for small, middle and largeranchor boxes\n",
    "area_percent = (0.03, 0.09, 0.15)"
   ]
  },
  {
   "cell_type": "code",
   "execution_count": 6,
   "metadata": {
    "ExecuteTime": {
     "end_time": "2020-11-02T02:57:00.823681Z",
     "start_time": "2020-11-02T02:57:00.808879Z"
    }
   },
   "outputs": [],
   "source": [
    "# compute the coordinate for anchor boxes\n",
    "def calc_r(area_percent, Img_size):\n",
    "    standard_r = []\n",
    "    for percent in area_percent:\n",
    "        area = percent * Img_size\n",
    "        standard_r.append(np.sqrt(area))\n",
    "    return standard_r\n",
    "\n",
    "def helper(ind, aspect):\n",
    "    if ind == 0:\n",
    "        return 1\n",
    "    elif ind == 1:\n",
    "        return aspect\n",
    "    else:\n",
    "        return 1/aspect\n",
    "\n",
    "def calc_anchor(asp_ratio, r_array, mid_x, mid_y):\n",
    "    anchor_boxes = []\n",
    "    for ind, asp in enumerate(asp_ratio):\n",
    "        for i in range(3):\n",
    "            x1 = int(mid_x - helper(i, asp)*r_array[ind]/2)\n",
    "            y1 = int(mid_y - 1/helper(i, asp)*r_array[ind]/2)\n",
    "            x2 = int(mid_x + helper(i, asp)*r_array[ind]/2)\n",
    "            y2 = int(mid_y + 1/helper(i, asp)*r_array[ind]/2)\n",
    "            anchor_boxes.append([x1, y1, x2, y2])\n",
    "    return anchor_boxes"
   ]
  },
  {
   "cell_type": "code",
   "execution_count": 7,
   "metadata": {
    "ExecuteTime": {
     "end_time": "2020-11-02T02:57:02.319838Z",
     "start_time": "2020-11-02T02:57:02.313962Z"
    }
   },
   "outputs": [],
   "source": [
    "r = calc_r(area_percent, Img_size)\n",
    "\n",
    "anchor_boxes = calc_anchor(asp_ratio, r, mid_x, mid_y)"
   ]
  },
  {
   "cell_type": "code",
   "execution_count": 14,
   "metadata": {
    "ExecuteTime": {
     "end_time": "2020-11-01T21:42:58.211589Z",
     "start_time": "2020-11-01T21:42:57.214448Z"
    }
   },
   "outputs": [
    {
     "data": {
      "text/plain": [
       "-1"
      ]
     },
     "execution_count": 14,
     "metadata": {},
     "output_type": "execute_result"
    }
   ],
   "source": [
    "for (start_x, start_y, end_x, end_y) in anchor_boxes:\n",
    "    cv2.rectangle(org, (start_x, start_y), (end_x, end_y), (255, 0, 0), 2)\n",
    "\n",
    "# Show image\n",
    "cv2.imshow('Original', org)\n",
    "cv2.waitKey(500)"
   ]
  },
  {
   "cell_type": "code",
   "execution_count": 8,
   "metadata": {
    "ExecuteTime": {
     "end_time": "2020-11-02T02:57:06.017107Z",
     "start_time": "2020-11-02T02:57:06.011029Z"
    }
   },
   "outputs": [],
   "source": [
    "colors = [(255, 0, 0), (255, 0, 0), (255, 0, 0), (0, 255, 255),(0, 255, 255),(0, 255, 255), (0, 255, 0),\n",
    "         (0, 255, 0),(0, 255, 0)]\n",
    "\n",
    "cnt = 0\n",
    "for (start_x, start_y, end_x, end_y) in anchor_boxes:\n",
    "    cv2.rectangle(org, (start_x, start_y), (end_x, end_y), colors[cnt], 2)\n",
    "    cnt += 1\n"
   ]
  },
  {
   "cell_type": "code",
   "execution_count": 9,
   "metadata": {
    "ExecuteTime": {
     "end_time": "2020-11-02T02:57:12.221061Z",
     "start_time": "2020-11-02T02:57:10.582987Z"
    }
   },
   "outputs": [
    {
     "data": {
      "text/plain": [
       "-1"
      ]
     },
     "execution_count": 9,
     "metadata": {},
     "output_type": "execute_result"
    }
   ],
   "source": [
    "# Show image\n",
    "cv2.imshow('Original', org)\n",
    "cv2.waitKey(500)"
   ]
  },
  {
   "cell_type": "code",
   "execution_count": null,
   "metadata": {},
   "outputs": [],
   "source": []
  },
  {
   "cell_type": "code",
   "execution_count": null,
   "metadata": {},
   "outputs": [],
   "source": []
  }
 ],
 "metadata": {
  "kernelspec": {
   "display_name": "Python 3",
   "language": "python",
   "name": "python3"
  },
  "language_info": {
   "codemirror_mode": {
    "name": "ipython",
    "version": 3
   },
   "file_extension": ".py",
   "mimetype": "text/x-python",
   "name": "python",
   "nbconvert_exporter": "python",
   "pygments_lexer": "ipython3",
   "version": "3.8.3"
  },
  "toc": {
   "base_numbering": 1,
   "nav_menu": {},
   "number_sections": true,
   "sideBar": true,
   "skip_h1_title": false,
   "title_cell": "Table of Contents",
   "title_sidebar": "Contents",
   "toc_cell": false,
   "toc_position": {},
   "toc_section_display": true,
   "toc_window_display": false
  }
 },
 "nbformat": 4,
 "nbformat_minor": 4
}
