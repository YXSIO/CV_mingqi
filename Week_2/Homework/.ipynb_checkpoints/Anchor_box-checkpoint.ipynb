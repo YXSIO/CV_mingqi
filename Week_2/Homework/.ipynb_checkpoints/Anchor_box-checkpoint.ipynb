{
 "cells": [
  {
   "cell_type": "code",
   "execution_count": 7,
   "metadata": {
    "ExecuteTime": {
     "end_time": "2020-11-01T21:42:49.774696Z",
     "start_time": "2020-11-01T21:42:49.771720Z"
    }
   },
   "outputs": [],
   "source": [
    "import cv2\n",
    "import numpy as np"
   ]
  },
  {
   "cell_type": "code",
   "execution_count": 8,
   "metadata": {
    "ExecuteTime": {
     "end_time": "2020-11-01T21:42:50.156837Z",
     "start_time": "2020-11-01T21:42:50.147811Z"
    }
   },
   "outputs": [],
   "source": [
    "# Read image\n",
    "image_name = 'anchor.jpg'\n",
    "image = cv2.imread(image_name)\n",
    "\n",
    "# Copy image as original\n",
    "org = image.copy()"
   ]
  },
  {
   "cell_type": "code",
   "execution_count": 9,
   "metadata": {
    "ExecuteTime": {
     "end_time": "2020-11-01T21:42:50.598622Z",
     "start_time": "2020-11-01T21:42:50.591832Z"
    }
   },
   "outputs": [
    {
     "name": "stdout",
     "output_type": "stream",
     "text": [
      "(500, 449, 3)\n",
      "The total area is 224500\n",
      "The mid pixel location is (250, 224)\n"
     ]
    }
   ],
   "source": [
    "# Pre-processing\n",
    "print(image.shape)\n",
    "x, y, _ = image.shape\n",
    "Img_size = x*y\n",
    "print(f'The total area is {Img_size}')\n",
    "\n",
    "# find the mid point of the image\n",
    "mid_x = x // 2\n",
    "mid_y = y // 2\n",
    "print(f'The mid pixel location is ({mid_x}, {mid_y})')"
   ]
  },
  {
   "cell_type": "code",
   "execution_count": 10,
   "metadata": {
    "ExecuteTime": {
     "end_time": "2020-11-01T21:42:51.207328Z",
     "start_time": "2020-11-01T21:42:51.203492Z"
    }
   },
   "outputs": [],
   "source": [
    "# Define the aspect ratio of small, middle and largeranchor boxes\n",
    "asp_ratio = [2, 2, 2]\n",
    "\n",
    "# Define the size for small, middle and largeranchor boxes\n",
    "area_percent = (0.03, 0.09, 0.15)"
   ]
  },
  {
   "cell_type": "code",
   "execution_count": 11,
   "metadata": {
    "ExecuteTime": {
     "end_time": "2020-11-01T21:42:51.786005Z",
     "start_time": "2020-11-01T21:42:51.762687Z"
    }
   },
   "outputs": [],
   "source": [
    "# compute the coordinate for anchor boxes\n",
    "def calc_r(area_percent, Img_size):\n",
    "    standard_r = []\n",
    "    for percent in area_percent:\n",
    "        area = percent * Img_size\n",
    "        standard_r.append(np.sqrt(area))\n",
    "    return standard_r\n",
    "\n",
    "def helper(ind, aspect):\n",
    "    if ind == 0:\n",
    "        return 1\n",
    "    elif ind == 1:\n",
    "        return aspect\n",
    "    else:\n",
    "        return 1/aspect\n",
    "\n",
    "def calc_anchor(asp_ratio, r_array, mid_x, mid_y):\n",
    "    anchor_boxes = []\n",
    "    for ind, asp in enumerate(asp_ratio):\n",
    "        for i in range(3):\n",
    "            x1 = int(mid_x - helper(i, asp)*r_array[ind]/2)\n",
    "            y1 = int(mid_y - 1/helper(i, asp)*r_array[ind]/2)\n",
    "            x2 = int(mid_x + helper(i, asp)*r_array[ind]/2)\n",
    "            y2 = int(mid_y + 1/helper(i, asp)*r_array[ind]/2)\n",
    "            anchor_boxes.append([x1, y1, x2, y2])\n",
    "    return anchor_boxes"
   ]
  },
  {
   "cell_type": "code",
   "execution_count": 12,
   "metadata": {
    "ExecuteTime": {
     "end_time": "2020-11-01T21:42:52.197642Z",
     "start_time": "2020-11-01T21:42:52.193028Z"
    }
   },
   "outputs": [
    {
     "name": "stdout",
     "output_type": "stream",
     "text": [
      "[82.06704576137733, 142.1442928857856, 183.50749303502567]\n"
     ]
    }
   ],
   "source": [
    "r = calc_r(area_percent, Img_size)\n",
    "print(r)\n",
    "\n",
    "anchor_boxes = calc_anchor(asp_ratio, r, mid_x, mid_y)"
   ]
  },
  {
   "cell_type": "code",
   "execution_count": 13,
   "metadata": {
    "ExecuteTime": {
     "end_time": "2020-11-01T21:42:53.890991Z",
     "start_time": "2020-11-01T21:42:53.875792Z"
    }
   },
   "outputs": [
    {
     "data": {
      "text/plain": [
       "[[208, 182, 291, 265],\n",
       " [167, 203, 332, 244],\n",
       " [229, 141, 270, 306],\n",
       " [178, 152, 321, 295],\n",
       " [107, 188, 392, 259],\n",
       " [214, 81, 285, 366],\n",
       " [158, 132, 341, 315],\n",
       " [66, 178, 433, 269],\n",
       " [204, 40, 295, 407]]"
      ]
     },
     "execution_count": 13,
     "metadata": {},
     "output_type": "execute_result"
    }
   ],
   "source": [
    "anchor_boxes"
   ]
  },
  {
   "cell_type": "code",
   "execution_count": 14,
   "metadata": {
    "ExecuteTime": {
     "end_time": "2020-11-01T21:42:58.211589Z",
     "start_time": "2020-11-01T21:42:57.214448Z"
    }
   },
   "outputs": [
    {
     "data": {
      "text/plain": [
       "-1"
      ]
     },
     "execution_count": 14,
     "metadata": {},
     "output_type": "execute_result"
    }
   ],
   "source": [
    "for (start_x, start_y, end_x, end_y) in anchor_boxes:\n",
    "    cv2.rectangle(org, (start_x, start_y), (end_x, end_y), (255, 0, 0), 2)\n",
    "\n",
    "# Show image\n",
    "cv2.imshow('Original', org)\n",
    "cv2.waitKey(500)"
   ]
  },
  {
   "cell_type": "code",
   "execution_count": 8,
   "metadata": {
    "ExecuteTime": {
     "end_time": "2020-11-01T21:37:05.191968Z",
     "start_time": "2020-11-01T21:37:05.178082Z"
    }
   },
   "outputs": [
    {
     "name": "stdout",
     "output_type": "stream",
     "text": [
      "0 0\n",
      "1 2\n",
      "2 0\n",
      "3 1\n",
      "4 2\n",
      "5 0\n",
      "6 1\n",
      "7 2\n",
      "8 0\n"
     ]
    }
   ],
   "source": [
    "colors = [(255, 0, 0), (0, 255, 255), (0, 255, 0)]\n",
    "cnt = 0 \n",
    "c_ind = 0\n",
    "\n",
    "for (start_x, start_y, end_x, end_y) in anchor_boxes:\n",
    "    cv2.rectangle(org, (start_x, start_y), (end_x, end_y), colors[c_ind], 2)\n",
    "    print(cnt, c_ind)\n",
    "    cnt += 1\n",
    "    c_ind = (cnt+1) % 3"
   ]
  },
  {
   "cell_type": "code",
   "execution_count": 9,
   "metadata": {
    "ExecuteTime": {
     "end_time": "2020-11-01T21:37:06.566799Z",
     "start_time": "2020-11-01T21:37:05.348634Z"
    }
   },
   "outputs": [
    {
     "data": {
      "text/plain": [
       "-1"
      ]
     },
     "execution_count": 9,
     "metadata": {},
     "output_type": "execute_result"
    }
   ],
   "source": [
    "# Show image\n",
    "cv2.imshow('Original', org)\n",
    "cv2.waitKey(500)"
   ]
  },
  {
   "cell_type": "code",
   "execution_count": null,
   "metadata": {},
   "outputs": [],
   "source": []
  },
  {
   "cell_type": "code",
   "execution_count": null,
   "metadata": {},
   "outputs": [],
   "source": []
  }
 ],
 "metadata": {
  "kernelspec": {
   "display_name": "Python 3",
   "language": "python",
   "name": "python3"
  },
  "language_info": {
   "codemirror_mode": {
    "name": "ipython",
    "version": 3
   },
   "file_extension": ".py",
   "mimetype": "text/x-python",
   "name": "python",
   "nbconvert_exporter": "python",
   "pygments_lexer": "ipython3",
   "version": "3.8.3"
  },
  "toc": {
   "base_numbering": 1,
   "nav_menu": {},
   "number_sections": true,
   "sideBar": true,
   "skip_h1_title": false,
   "title_cell": "Table of Contents",
   "title_sidebar": "Contents",
   "toc_cell": false,
   "toc_position": {},
   "toc_section_display": true,
   "toc_window_display": false
  }
 },
 "nbformat": 4,
 "nbformat_minor": 4
}
